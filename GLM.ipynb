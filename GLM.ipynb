{
  "nbformat": 4,
  "nbformat_minor": 0,
  "metadata": {
    "colab": {
      "provenance": [],
      "authorship_tag": "ABX9TyPVJp2y2GOiB9jiFzrKOMIe",
      "include_colab_link": true
    },
    "kernelspec": {
      "name": "python3",
      "display_name": "Python 3"
    },
    "language_info": {
      "name": "python"
    }
  },
  "cells": [
    {
      "cell_type": "markdown",
      "metadata": {
        "id": "view-in-github",
        "colab_type": "text"
      },
      "source": [
        "<a href=\"https://colab.research.google.com/github/SureshRaja-31/GLM/blob/main/GLM.ipynb\" target=\"_parent\"><img src=\"https://colab.research.google.com/assets/colab-badge.svg\" alt=\"Open In Colab\"/></a>"
      ]
    },
    {
      "cell_type": "markdown",
      "source": [
        "Ex. 1: Conditional Statements and Looping\n",
        "\n",
        "1) Income of employee: Let’s assume A works as an hourly paid employee, and he is paid 250/per hour. If he worked for 56 hours then he will get the overtime pay as 100 for the extra hours he worked. Calculate the monthly and annual income of the employee."
      ],
      "metadata": {
        "id": "VNmdi4jBD5iD"
      }
    },
    {
      "cell_type": "code",
      "source": [
        "regular_hourly_rate = 250\n",
        "overtime_bonus = 100\n",
        "standard_hours_per_week = 40\n",
        "\n",
        "num_employees = int(input(\"Enter the number of employees: \"))\n",
        "\n",
        "for i in range(num_employees):\n",
        "    print(f\"\\nEmployee {i + 1}\")\n",
        "    emp_id = input(\"Enter Employee Name or ID: \")\n",
        "    hours_worked_per_week = int(input(\"Enter hours worked in a week: \"))\n",
        "\n",
        "    if hours_worked_per_week > standard_hours_per_week:\n",
        "        overtime_hours = hours_worked_per_week - standard_hours_per_week\n",
        "        regular_hours = standard_hours_per_week\n",
        "    else:\n",
        "        overtime_hours = 0\n",
        "        regular_hours = hours_worked_per_week\n",
        "\n",
        "    weekly_income = (regular_hours * regular_hourly_rate) + (overtime_hours * (regular_hourly_rate + overtime_bonus))\n",
        "    monthly_income = weekly_income * 4\n",
        "    annual_income = weekly_income * 52\n",
        "\n",
        "    print(f\"\\nIncome Details for {emp_id}\")\n",
        "    print(\"Weekly Income: ₹\", weekly_income)\n",
        "    print(\"Monthly Income: ₹\", monthly_income)\n",
        "    print(\"Annual Income: ₹\", annual_income)"
      ],
      "metadata": {
        "colab": {
          "base_uri": "https://localhost:8080/"
        },
        "id": "V8ebFQnTXyo8",
        "outputId": "b80eadf2-cd34-4180-c3f9-bf95e4f0c300"
      },
      "execution_count": 9,
      "outputs": [
        {
          "output_type": "stream",
          "name": "stdout",
          "text": [
            "Enter the number of employees: 2\n",
            "\n",
            "Employee 1\n",
            "Enter Employee Name or ID: Suresh\n",
            "Enter hours worked in a week: 56\n",
            "\n",
            "Income Details for Suresh\n",
            "Weekly Income: ₹ 15600\n",
            "Monthly Income: ₹ 62400\n",
            "Annual Income: ₹ 811200\n",
            "\n",
            "Employee 2\n",
            "Enter Employee Name or ID: Raja\n",
            "Enter hours worked in a week: 45\n",
            "\n",
            "Income Details for Raja\n",
            "Weekly Income: ₹ 11750\n",
            "Monthly Income: ₹ 47000\n",
            "Annual Income: ₹ 611000\n"
          ]
        }
      ]
    },
    {
      "cell_type": "markdown",
      "source": [
        "2) Electricity Bill: Calculate the electricity bill for household,commercial,large industry,small industry,handloom,agriculture,temporary lines."
      ],
      "metadata": {
        "id": "BhWHzlU1F1Dv"
      }
    },
    {
      "cell_type": "code",
      "source": [
        "def calculate_base_bill(units):\n",
        "    if units <= 100:\n",
        "        return units * 0.50\n",
        "    elif units <= 200:\n",
        "        return (100 * 0.50) + ((units - 100) * 0.75)\n",
        "    elif units <= 300:\n",
        "        return (100 * 0.50) + (100 * 0.75) + ((units - 200) * 1.20)\n",
        "    else:\n",
        "        return (100 * 0.50) + (100 * 0.75) + (100 * 1.20) + ((units - 300) * 1.50)\n",
        "\n",
        "def calculate_bill(units, user_type):\n",
        "    base_cost = calculate_base_bill(units)\n",
        "    user_type = user_type.lower()\n",
        "\n",
        "    user_multipliers = {\n",
        "        \"household\": 1.0,\n",
        "        \"commercial\": 2.0,\n",
        "        \"large industry\": 3.0,\n",
        "        \"small industry\": 2.5,\n",
        "        \"handloom\": 1.8,\n",
        "        \"agriculture\": 0.5,\n",
        "        \"temporary lines\": 4.0\n",
        "    }\n",
        "\n",
        "    if user_type in user_multipliers:\n",
        "        return base_cost * user_multipliers[user_type]\n",
        "    else:\n",
        "        return -1\n",
        "\n",
        "num_users = int(input(\"Enter number of users: \"))\n",
        "\n",
        "for i in range(num_users):\n",
        "    print(f\"\\nUser {i+1}\")\n",
        "    units = int(input(\"Enter units consumed: \"))\n",
        "    user_type = input(\"Enter user type (household/commercial/large industry/small industry/handloom/agriculture/temporary lines): \")\n",
        "\n",
        "    total_bill = calculate_bill(units, user_type)\n",
        "\n",
        "    if total_bill == -1:\n",
        "        print(\"Invalid user type. Please enter one of the valid options.\")\n",
        "    else:\n",
        "        print(f\"User Type: {user_type.title()}\")\n",
        "        print(f\"Units Consumed: {units}\")\n",
        "        print(f\"Total Electricity Bill: ₹{total_bill:.2f}\")"
      ],
      "metadata": {
        "colab": {
          "base_uri": "https://localhost:8080/"
        },
        "id": "8CsjDI8PX4j1",
        "outputId": "8cc20a79-e4b0-44a6-cd25-2b97dbe1fc4d"
      },
      "execution_count": 12,
      "outputs": [
        {
          "output_type": "stream",
          "name": "stdout",
          "text": [
            "Enter number of users: 2\n",
            "\n",
            "User 1\n",
            "Enter units consumed: 350\n",
            "Enter user type (household/commercial/large industry/small industry/handloom/agriculture/temporary lines): commercial\n",
            "User Type: Commercial\n",
            "Units Consumed: 350\n",
            "Total Electricity Bill: ₹640.00\n",
            "\n",
            "User 2\n",
            "Enter units consumed: 400\n",
            "Enter user type (household/commercial/large industry/small industry/handloom/agriculture/temporary lines): agriculture\n",
            "User Type: Agriculture\n",
            "Units Consumed: 400\n",
            "Total Electricity Bill: ₹197.50\n"
          ]
        }
      ]
    },
    {
      "cell_type": "markdown",
      "source": [
        "Ex. 2: OOPS Concepts: Functions & Inheritance\n",
        "\n",
        "1) Data Science Quiz: Conduct a Quiz program for 10 marks, each correct answers should carry 2 marks, each wrong answers should carry -1 marks. Calculate the total scores of the user."
      ],
      "metadata": {
        "id": "rPOE8E8cILUY"
      }
    },
    {
      "cell_type": "code",
      "source": [
        "Correct_answer = 2\n",
        "Wrong_answer = -1\n",
        "Total_mark = 10\n",
        "\n",
        "class Quiz:\n",
        "    def __init__(self):\n",
        "        self.score = 0\n",
        "        self.questions = [\n",
        "            {\n",
        "                \"question\": \"1. What does 'AI' stand for?\",\n",
        "                \"options\": [\"A. Artificial Intelligence\", \"B. Automated Input\", \"C. Algorithmic Interaction\", \"D. Applied Innovation\"],\n",
        "                \"answer\": \"A\"\n",
        "            },\n",
        "            {\n",
        "                \"question\": \"2. Which language is most used in Data Science?\",\n",
        "                \"options\": [\"A. Java\", \"B. C++\", \"C. Python\", \"D. R\"],\n",
        "                \"answer\": \"C\"\n",
        "            },\n",
        "            {\n",
        "                \"question\": \"3. What does CSV stand for?\",\n",
        "                \"options\": [\"A. Common Separated Value\", \"B. Column Specific Value\", \"C. Comma Separated Value\", \"D. Character Separated Value\"],\n",
        "                \"answer\": \"C\"\n",
        "            },\n",
        "            {\n",
        "                \"question\": \"4. Which library is used for data visualization?\",\n",
        "                \"options\": [\"A. NumPy\", \"B. Pandas\", \"C. Scikit-learn\", \"D. Matplotlib\"],\n",
        "                \"answer\": \"D\"\n",
        "            },\n",
        "            {\n",
        "                \"question\": \"5. Which algorithm is used for classification?\",\n",
        "                \"options\": [\"A. K-Means\", \"B. Decision Tree\", \"C. PCA\", \"D. KNN\"],\n",
        "                \"answer\": \"B\"\n",
        "            }\n",
        "        ]\n",
        "\n",
        "    def ask_question(self, question_data):\n",
        "        print(f\"\\n{question_data['question']}\")\n",
        "        print(\"\\n\".join(question_data[\"options\"]))\n",
        "        user_answer = input(\"Enter your answer (A/B/C/D): \").strip().upper()\n",
        "        if user_answer == question_data[\"answer\"]:\n",
        "            self.score += Correct_answer\n",
        "            print(\"Correct!\")\n",
        "        else:\n",
        "            self.score += Wrong_answer\n",
        "            print(f\"Wrong! Correct answer: {question_data['answer']}\")\n",
        "\n",
        "class DataScienceQuiz(Quiz):\n",
        "    def start_quiz(self):\n",
        "        print(\"\\nWelcome to the Data Science Quiz!\")\n",
        "        for question in self.questions:\n",
        "            self.ask_question(question)\n",
        "        print(\"\\nQuiz Completed!\")\n",
        "        print(f\"Your Total Score: {self.score} / {Total_mark}\")\n",
        "\n",
        "if __name__ == \"__main__\":\n",
        "    quiz = DataScienceQuiz()\n",
        "    quiz.start_quiz()"
      ],
      "metadata": {
        "colab": {
          "base_uri": "https://localhost:8080/"
        },
        "id": "LxcmRazOYUCW",
        "outputId": "17301c9a-28ba-4e1b-c9ca-791f42f38e31"
      },
      "execution_count": 13,
      "outputs": [
        {
          "output_type": "stream",
          "name": "stdout",
          "text": [
            "\n",
            "Welcome to the Data Science Quiz!\n",
            "\n",
            "1. What does 'AI' stand for?\n",
            "A. Artificial Intelligence\n",
            "B. Automated Input\n",
            "C. Algorithmic Interaction\n",
            "D. Applied Innovation\n",
            "Enter your answer (A/B/C/D): a\n",
            "Correct!\n",
            "\n",
            "2. Which language is most used in Data Science?\n",
            "A. Java\n",
            "B. C++\n",
            "C. Python\n",
            "D. R\n",
            "Enter your answer (A/B/C/D): c\n",
            "Correct!\n",
            "\n",
            "3. What does CSV stand for?\n",
            "A. Common Separated Value\n",
            "B. Column Specific Value\n",
            "C. Comma Separated Value\n",
            "D. Character Separated Value\n",
            "Enter your answer (A/B/C/D): c\n",
            "Correct!\n",
            "\n",
            "4. Which library is used for data visualization?\n",
            "A. NumPy\n",
            "B. Pandas\n",
            "C. Scikit-learn\n",
            "D. Matplotlib\n",
            "Enter your answer (A/B/C/D): a\n",
            "Wrong! Correct answer: D\n",
            "\n",
            "5. Which algorithm is used for classification?\n",
            "A. K-Means\n",
            "B. Decision Tree\n",
            "C. PCA\n",
            "D. KNN\n",
            "Enter your answer (A/B/C/D): b\n",
            "Correct!\n",
            "\n",
            "Quiz Completed!\n",
            "Your Total Score: 7 / 10\n"
          ]
        }
      ]
    },
    {
      "cell_type": "markdown",
      "source": [
        "2) Calculate the Gross Salary and Net Salary of an employee for following allowance & deduction Using Inheritance.\n",
        "Get Basic Salary of Employee,\n",
        "DA = 20% of Basic, HRA = 10% of Basic, PF = 12% of Basic, TA = 7.50% of Basic.\n",
        "EMI = 2% of Basic"
      ],
      "metadata": {
        "id": "Z03aSa-YPIfW"
      }
    },
    {
      "cell_type": "code",
      "source": [
        "class Employee:\n",
        "    def __init__(self, emp_name, basic_salary):\n",
        "        self.emp_name = emp_name\n",
        "        self.basic = basic_salary\n",
        "        self.da = 0\n",
        "        self.hra = 0\n",
        "        self.pf = 0\n",
        "        self.ta = 0\n",
        "        self.emi = 0\n",
        "        self.gross_salary = 0\n",
        "        self.net_salary = 0\n",
        "\n",
        "    def calculate_allowances(self):\n",
        "        self.da = self.basic * 0.20\n",
        "        self.hra = self.basic * 0.10\n",
        "        self.pf = self.basic * 0.12\n",
        "        self.ta = self.basic * 0.075\n",
        "\n",
        "    def calculate_deductions(self):\n",
        "        self.emi = self.basic * 0.02\n",
        "\n",
        "class Salary(Employee):\n",
        "    def compute_salary(self):\n",
        "        self.calculate_allowances()\n",
        "        self.calculate_deductions()\n",
        "        self.gross_salary = self.basic + self.da + self.hra + self.pf + self.ta\n",
        "        self.net_salary = self.gross_salary - self.emi\n",
        "\n",
        "    def display_salary(self):\n",
        "        print(f\"\\nSalary Details for {self.emp_name}\")\n",
        "        print(f\"Basic Salary     : ₹{self.basic:.2f}\")\n",
        "        print(f\"DA (20%)         : ₹{self.da:.2f}\")\n",
        "        print(f\"HRA (10%)        : ₹{self.hra:.2f}\")\n",
        "        print(f\"PF (12%)         : ₹{self.pf:.2f}\")\n",
        "        print(f\"TA (7.5%)        : ₹{self.ta:.2f}\")\n",
        "        print(f\"EMI (2%)         : ₹{self.emi:.2f}\")\n",
        "        print(f\"Gross Salary     : ₹{self.gross_salary:.2f}\")\n",
        "        print(f\"Net Salary       : ₹{self.net_salary:.2f}\")\n",
        "\n",
        "if __name__ == \"__main__\":\n",
        "    emp_name = input(\"Enter Employee Name: \")\n",
        "    basic_salary = float(input(\"Enter Basic Salary: \"))\n",
        "\n",
        "    employee = Salary(emp_name, basic_salary)\n",
        "    employee.compute_salary()\n",
        "    employee.display_salary()"
      ],
      "metadata": {
        "colab": {
          "base_uri": "https://localhost:8080/"
        },
        "id": "gv5rzx6dYsk4",
        "outputId": "23ccc6bd-57ed-4a3e-f421-b34e6f266ee3"
      },
      "execution_count": 16,
      "outputs": [
        {
          "output_type": "stream",
          "name": "stdout",
          "text": [
            "Enter Employee Name: Suresh\n",
            "Enter Basic Salary: 30000\n",
            "\n",
            "Salary Details for Suresh\n",
            "Basic Salary     : ₹30000.00\n",
            "DA (20%)         : ₹6000.00\n",
            "HRA (10%)        : ₹3000.00\n",
            "PF (12%)         : ₹3600.00\n",
            "TA (7.5%)        : ₹2250.00\n",
            "EMI (2%)         : ₹600.00\n",
            "Gross Salary     : ₹44850.00\n",
            "Net Salary       : ₹44250.00\n"
          ]
        }
      ]
    }
  ]
}